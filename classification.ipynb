{
 "cells": [
  {
   "cell_type": "code",
   "execution_count": 1,
   "metadata": {
    "collapsed": false
   },
   "outputs": [],
   "source": [
    "import pandas as pd\n",
    "#import graphlab as gb\n",
    "import matplotlib.pyplot as plt\n",
    "import numpy as np\n",
    "#import seaborn as sb\n",
    "get_ipython().magic(u'matplotlib inline')\n",
    "from sklearn import metrics\n",
    "from utility import *\n",
    "from datacleaner import autoclean\n",
    "from sklearn.preprocessing import OneHotEncoder\n",
    "from sklearn.naive_bayes import MultinomialNB,GaussianNB\n",
    "from sklearn.svm import SVC,LinearSVC\n",
    "from xgboost.sklearn import XGBClassifier\n",
    "from sklearn.tree import DecisionTreeClassifier,ExtraTreeClassifier,export_graphviz\n",
    "from sklearn.linear_model import LogisticRegression,SGDClassifier,RidgeClassifier\n",
    "from sklearn.ensemble import RandomForestClassifier,AdaBoostClassifier,GradientBoostingClassifier\n",
    "from sklearn.linear_model.perceptron import Perceptron\n",
    "from sklearn.feature_selection import VarianceThreshold\n",
    "from sklearn.cross_validation import train_test_split"
   ]
  },
  {
   "cell_type": "code",
   "execution_count": 30,
   "metadata": {
    "collapsed": false
   },
   "outputs": [],
   "source": [
    "#def strip_term(data):\n",
    "#,'addr_state'\n",
    "tdf=pd.read_csv('loan_cleaned.csv')[['loan_amnt','term','int_rate','grade','sub_grade','emp_length','home_ownership',\n",
    "          'annual_inc','verification_status','purpose','dti','pub_rec',\n",
    "          'acc_now_delinq','delinq_2yrs','mths_since_last_delinq','open_acc','total_acc',\n",
    "          'labels','addr_state','zip_code']]"
   ]
  },
  {
   "cell_type": "code",
   "execution_count": 3,
   "metadata": {
    "collapsed": false
   },
   "outputs": [
    {
     "name": "stdout",
     "output_type": "stream",
     "text": [
      "<class 'pandas.core.frame.DataFrame'>\n",
      "RangeIndex: 254190 entries, 0 to 254189\n",
      "Data columns (total 18 columns):\n",
      "loan_amnt                 254190 non-null float64\n",
      "term                      254190 non-null object\n",
      "int_rate                  254190 non-null float64\n",
      "grade                     254190 non-null object\n",
      "sub_grade                 254190 non-null object\n",
      "emp_length                254190 non-null int64\n",
      "home_ownership            254190 non-null object\n",
      "annual_inc                254190 non-null float64\n",
      "verification_status       254190 non-null object\n",
      "purpose                   254190 non-null object\n",
      "dti                       254190 non-null float64\n",
      "pub_rec                   254190 non-null float64\n",
      "acc_now_delinq            254190 non-null float64\n",
      "delinq_2yrs               254190 non-null float64\n",
      "mths_since_last_delinq    254190 non-null float64\n",
      "open_acc                  254190 non-null float64\n",
      "total_acc                 254190 non-null float64\n",
      "labels                    254190 non-null int64\n",
      "dtypes: float64(10), int64(2), object(6)\n",
      "memory usage: 34.9+ MB\n"
     ]
    }
   ],
   "source": [
    "tdf.info()"
   ]
  },
  {
   "cell_type": "code",
   "execution_count": 4,
   "metadata": {
    "collapsed": false
   },
   "outputs": [
    {
     "data": {
      "text/plain": [
       "\"categorical=['term','grade','sub_grade','home_ownership','purpose']#,'addr_state']\\ntdf=encode_onehot(tdf,categorical)\\n\""
      ]
     },
     "execution_count": 4,
     "metadata": {},
     "output_type": "execute_result"
    }
   ],
   "source": [
    "\"\"\"categorical=['term','grade','sub_grade','home_ownership','purpose']#,'addr_state']\n",
    "tdf=encode_onehot(tdf,categorical)\n",
    "\"\"\""
   ]
  },
  {
   "cell_type": "code",
   "execution_count": 5,
   "metadata": {
    "collapsed": false
   },
   "outputs": [
    {
     "data": {
      "text/html": [
       "<div>\n",
       "<table border=\"1\" class=\"dataframe\">\n",
       "  <thead>\n",
       "    <tr style=\"text-align: right;\">\n",
       "      <th></th>\n",
       "      <th>loan_amnt</th>\n",
       "      <th>term</th>\n",
       "      <th>int_rate</th>\n",
       "      <th>grade</th>\n",
       "      <th>sub_grade</th>\n",
       "      <th>emp_length</th>\n",
       "      <th>home_ownership</th>\n",
       "      <th>annual_inc</th>\n",
       "      <th>verification_status</th>\n",
       "      <th>purpose</th>\n",
       "      <th>dti</th>\n",
       "      <th>pub_rec</th>\n",
       "      <th>acc_now_delinq</th>\n",
       "      <th>delinq_2yrs</th>\n",
       "      <th>mths_since_last_delinq</th>\n",
       "      <th>open_acc</th>\n",
       "      <th>total_acc</th>\n",
       "      <th>labels</th>\n",
       "    </tr>\n",
       "  </thead>\n",
       "  <tbody>\n",
       "    <tr>\n",
       "      <th>0</th>\n",
       "      <td>5000.0</td>\n",
       "      <td>0</td>\n",
       "      <td>10.65</td>\n",
       "      <td>1</td>\n",
       "      <td>6</td>\n",
       "      <td>10</td>\n",
       "      <td>5</td>\n",
       "      <td>24000.0</td>\n",
       "      <td>2</td>\n",
       "      <td>1</td>\n",
       "      <td>27.65</td>\n",
       "      <td>0.0</td>\n",
       "      <td>0.0</td>\n",
       "      <td>0.0</td>\n",
       "      <td>0.0</td>\n",
       "      <td>3.0</td>\n",
       "      <td>9.0</td>\n",
       "      <td>1</td>\n",
       "    </tr>\n",
       "    <tr>\n",
       "      <th>1</th>\n",
       "      <td>2500.0</td>\n",
       "      <td>1</td>\n",
       "      <td>15.27</td>\n",
       "      <td>2</td>\n",
       "      <td>13</td>\n",
       "      <td>1</td>\n",
       "      <td>5</td>\n",
       "      <td>30000.0</td>\n",
       "      <td>1</td>\n",
       "      <td>0</td>\n",
       "      <td>1.00</td>\n",
       "      <td>0.0</td>\n",
       "      <td>0.0</td>\n",
       "      <td>0.0</td>\n",
       "      <td>0.0</td>\n",
       "      <td>3.0</td>\n",
       "      <td>4.0</td>\n",
       "      <td>0</td>\n",
       "    </tr>\n",
       "    <tr>\n",
       "      <th>2</th>\n",
       "      <td>2400.0</td>\n",
       "      <td>0</td>\n",
       "      <td>15.96</td>\n",
       "      <td>2</td>\n",
       "      <td>14</td>\n",
       "      <td>10</td>\n",
       "      <td>5</td>\n",
       "      <td>12252.0</td>\n",
       "      <td>0</td>\n",
       "      <td>11</td>\n",
       "      <td>8.72</td>\n",
       "      <td>0.0</td>\n",
       "      <td>0.0</td>\n",
       "      <td>0.0</td>\n",
       "      <td>0.0</td>\n",
       "      <td>2.0</td>\n",
       "      <td>10.0</td>\n",
       "      <td>1</td>\n",
       "    </tr>\n",
       "    <tr>\n",
       "      <th>3</th>\n",
       "      <td>10000.0</td>\n",
       "      <td>0</td>\n",
       "      <td>13.49</td>\n",
       "      <td>2</td>\n",
       "      <td>10</td>\n",
       "      <td>10</td>\n",
       "      <td>5</td>\n",
       "      <td>49200.0</td>\n",
       "      <td>1</td>\n",
       "      <td>9</td>\n",
       "      <td>20.00</td>\n",
       "      <td>0.0</td>\n",
       "      <td>0.0</td>\n",
       "      <td>0.0</td>\n",
       "      <td>35.0</td>\n",
       "      <td>10.0</td>\n",
       "      <td>37.0</td>\n",
       "      <td>1</td>\n",
       "    </tr>\n",
       "    <tr>\n",
       "      <th>4</th>\n",
       "      <td>5000.0</td>\n",
       "      <td>0</td>\n",
       "      <td>7.90</td>\n",
       "      <td>0</td>\n",
       "      <td>3</td>\n",
       "      <td>3</td>\n",
       "      <td>5</td>\n",
       "      <td>36000.0</td>\n",
       "      <td>1</td>\n",
       "      <td>13</td>\n",
       "      <td>11.20</td>\n",
       "      <td>0.0</td>\n",
       "      <td>0.0</td>\n",
       "      <td>0.0</td>\n",
       "      <td>0.0</td>\n",
       "      <td>9.0</td>\n",
       "      <td>12.0</td>\n",
       "      <td>1</td>\n",
       "    </tr>\n",
       "  </tbody>\n",
       "</table>\n",
       "</div>"
      ],
      "text/plain": [
       "   loan_amnt  term  int_rate  grade  sub_grade  emp_length  home_ownership  \\\n",
       "0     5000.0     0     10.65      1          6          10               5   \n",
       "1     2500.0     1     15.27      2         13           1               5   \n",
       "2     2400.0     0     15.96      2         14          10               5   \n",
       "3    10000.0     0     13.49      2         10          10               5   \n",
       "4     5000.0     0      7.90      0          3           3               5   \n",
       "\n",
       "   annual_inc  verification_status  purpose    dti  pub_rec  acc_now_delinq  \\\n",
       "0     24000.0                    2        1  27.65      0.0             0.0   \n",
       "1     30000.0                    1        0   1.00      0.0             0.0   \n",
       "2     12252.0                    0       11   8.72      0.0             0.0   \n",
       "3     49200.0                    1        9  20.00      0.0             0.0   \n",
       "4     36000.0                    1       13  11.20      0.0             0.0   \n",
       "\n",
       "   delinq_2yrs  mths_since_last_delinq  open_acc  total_acc  labels  \n",
       "0          0.0                     0.0       3.0        9.0       1  \n",
       "1          0.0                     0.0       3.0        4.0       0  \n",
       "2          0.0                     0.0       2.0       10.0       1  \n",
       "3          0.0                    35.0      10.0       37.0       1  \n",
       "4          0.0                     0.0       9.0       12.0       1  "
      ]
     },
     "execution_count": 5,
     "metadata": {},
     "output_type": "execute_result"
    }
   ],
   "source": [
    "df=autoclean(input_dataframe=tdf,drop_nans=True)\n",
    "df.head()"
   ]
  },
  {
   "cell_type": "code",
   "execution_count": 6,
   "metadata": {
    "collapsed": false
   },
   "outputs": [],
   "source": [
    "#tdf=pd.read_csv('loan_cleaned.csv')[feature_cols]\n",
    "#print tdf.term.unique()\n",
    "#print df.term.unique()\n",
    "#tdf.info()"
   ]
  },
  {
   "cell_type": "code",
   "execution_count": 7,
   "metadata": {
    "collapsed": false
   },
   "outputs": [
    {
     "name": "stdout",
     "output_type": "stream",
     "text": [
      "207723\n",
      "46467\n",
      "254190\n"
     ]
    }
   ],
   "source": [
    "print sum(df['labels']==1)\n",
    "print sum(df['labels']==0)\n",
    "print len(df)"
   ]
  },
  {
   "cell_type": "code",
   "execution_count": 8,
   "metadata": {
    "collapsed": false
   },
   "outputs": [],
   "source": [
    "df_balanced=balance_data(df,'labels',0,1)\n",
    "#df_balanced=df"
   ]
  },
  {
   "cell_type": "code",
   "execution_count": 9,
   "metadata": {
    "collapsed": false
   },
   "outputs": [
    {
     "name": "stdout",
     "output_type": "stream",
     "text": [
      "46467\n",
      "46467\n",
      "92934\n"
     ]
    }
   ],
   "source": [
    "print sum(df_balanced['labels']==1)\n",
    "print sum(df_balanced['labels']==0)\n",
    "print len(df_balanced)"
   ]
  },
  {
   "cell_type": "code",
   "execution_count": 10,
   "metadata": {
    "collapsed": false
   },
   "outputs": [],
   "source": [
    "#df_balanced.columns"
   ]
  },
  {
   "cell_type": "code",
   "execution_count": 11,
   "metadata": {
    "collapsed": false
   },
   "outputs": [
    {
     "data": {
      "text/plain": [
       "\"features=['loan_amnt','funded_amnt_inv','term','int_rate','installment','grade','sub_grade',\\n      'emp_title','emp_length','home_ownership','annual_inc',\\n      'verification_status','issue_d','purpose','title','addr_state','dti',\\n      'delinq_2yrs','earliest_cr_line','inq_last_6mths',\\n      'mths_since_last_delinq','open_acc','pub_rec','revol_bal',\\n      'revol_util','total_acc','initial_list_status','out_prncp',\\n      'out_prncp_inv','total_pymnt','total_pymnt_inv',\\n      'total_rec_prncp','total_rec_int','total_rec_late_fee',\\n      'recoveries','collection_recovery_fee','last_pymnt_d',\\n      'last_pymnt_amnt','last_credit_pull_d',\\n      'collections_12_mths_ex_med','application_type',\\n      'acc_now_delinq','tot_coll_amt','tot_cur_bal','total_rev_hi_lim']\""
      ]
     },
     "execution_count": 11,
     "metadata": {},
     "output_type": "execute_result"
    }
   ],
   "source": [
    "#full meaningful features\n",
    "\"\"\"features=['loan_amnt','funded_amnt_inv','term','int_rate','installment','grade','sub_grade',\n",
    "      'emp_title','emp_length','home_ownership','annual_inc',\n",
    "      'verification_status','issue_d','purpose','title','addr_state','dti',\n",
    "      'delinq_2yrs','earliest_cr_line','inq_last_6mths',\n",
    "      'mths_since_last_delinq','open_acc','pub_rec','revol_bal',\n",
    "      'revol_util','total_acc','initial_list_status','out_prncp',\n",
    "      'out_prncp_inv','total_pymnt','total_pymnt_inv',\n",
    "      'total_rec_prncp','total_rec_int','total_rec_late_fee',\n",
    "      'recoveries','collection_recovery_fee','last_pymnt_d',\n",
    "      'last_pymnt_amnt','last_credit_pull_d',\n",
    "      'collections_12_mths_ex_med','application_type',\n",
    "      'acc_now_delinq','tot_coll_amt','tot_cur_bal','total_rev_hi_lim']\"\"\""
   ]
  },
  {
   "cell_type": "code",
   "execution_count": 12,
   "metadata": {
    "collapsed": false
   },
   "outputs": [],
   "source": [
    "#selected_features.head()"
   ]
  },
  {
   "cell_type": "code",
   "execution_count": 13,
   "metadata": {
    "collapsed": true
   },
   "outputs": [],
   "source": [
    "#features available at loan application time\n",
    "\"\"\"feature_cols=['loan_amnt','term','int_rate','grade','sub_grade','emp_length','home_ownership',\n",
    "          'annual_inc','verification_status','purpose','addr_state','dti','pub_rec',\n",
    "          'acc_now_delinq','delinq_2yrs','mths_since_last_delinq','open_acc','total_acc']#earliest_cr_line\"\"\"\n",
    "feature_cols=list(df_balanced.columns)\n",
    "feature_cols.remove('labels')\n",
    "target=df_balanced['labels']"
   ]
  },
  {
   "cell_type": "code",
   "execution_count": 14,
   "metadata": {
    "collapsed": false
   },
   "outputs": [
    {
     "data": {
      "text/plain": [
       "'feature_selector=VarianceThreshold(threshold=0.2)\\nselected_features=feature_selector.fit_transform(df_balanced[features])\\nprint len(features)\\nprint len(selected_features[0])'"
      ]
     },
     "execution_count": 14,
     "metadata": {},
     "output_type": "execute_result"
    }
   ],
   "source": [
    "\"\"\"feature_selector=VarianceThreshold(threshold=0.2)\n",
    "selected_features=feature_selector.fit_transform(df_balanced[features])\n",
    "print len(features)\n",
    "print len(selected_features[0])\"\"\""
   ]
  },
  {
   "cell_type": "code",
   "execution_count": 15,
   "metadata": {
    "collapsed": false
   },
   "outputs": [],
   "source": [
    "selected_features=df_balanced[feature_cols]"
   ]
  },
  {
   "cell_type": "code",
   "execution_count": 16,
   "metadata": {
    "collapsed": false
   },
   "outputs": [
    {
     "data": {
      "text/html": [
       "<div>\n",
       "<table border=\"1\" class=\"dataframe\">\n",
       "  <thead>\n",
       "    <tr style=\"text-align: right;\">\n",
       "      <th></th>\n",
       "      <th>loan_amnt</th>\n",
       "      <th>term</th>\n",
       "      <th>int_rate</th>\n",
       "      <th>grade</th>\n",
       "      <th>sub_grade</th>\n",
       "      <th>emp_length</th>\n",
       "      <th>home_ownership</th>\n",
       "      <th>annual_inc</th>\n",
       "      <th>verification_status</th>\n",
       "      <th>purpose</th>\n",
       "      <th>dti</th>\n",
       "      <th>pub_rec</th>\n",
       "      <th>acc_now_delinq</th>\n",
       "      <th>delinq_2yrs</th>\n",
       "      <th>mths_since_last_delinq</th>\n",
       "      <th>open_acc</th>\n",
       "      <th>total_acc</th>\n",
       "    </tr>\n",
       "  </thead>\n",
       "  <tbody>\n",
       "    <tr>\n",
       "      <th>48456</th>\n",
       "      <td>12000.0</td>\n",
       "      <td>0</td>\n",
       "      <td>17.76</td>\n",
       "      <td>3</td>\n",
       "      <td>15</td>\n",
       "      <td>1</td>\n",
       "      <td>1</td>\n",
       "      <td>67000.0</td>\n",
       "      <td>1</td>\n",
       "      <td>2</td>\n",
       "      <td>11.96</td>\n",
       "      <td>0.0</td>\n",
       "      <td>0.0</td>\n",
       "      <td>0.0</td>\n",
       "      <td>0.0</td>\n",
       "      <td>12.0</td>\n",
       "      <td>17.0</td>\n",
       "    </tr>\n",
       "    <tr>\n",
       "      <th>68125</th>\n",
       "      <td>17450.0</td>\n",
       "      <td>1</td>\n",
       "      <td>10.64</td>\n",
       "      <td>1</td>\n",
       "      <td>6</td>\n",
       "      <td>10</td>\n",
       "      <td>1</td>\n",
       "      <td>65000.0</td>\n",
       "      <td>2</td>\n",
       "      <td>1</td>\n",
       "      <td>18.27</td>\n",
       "      <td>0.0</td>\n",
       "      <td>0.0</td>\n",
       "      <td>0.0</td>\n",
       "      <td>0.0</td>\n",
       "      <td>12.0</td>\n",
       "      <td>19.0</td>\n",
       "    </tr>\n",
       "    <tr>\n",
       "      <th>82591</th>\n",
       "      <td>11200.0</td>\n",
       "      <td>0</td>\n",
       "      <td>12.12</td>\n",
       "      <td>1</td>\n",
       "      <td>7</td>\n",
       "      <td>1</td>\n",
       "      <td>4</td>\n",
       "      <td>45000.0</td>\n",
       "      <td>1</td>\n",
       "      <td>2</td>\n",
       "      <td>14.72</td>\n",
       "      <td>0.0</td>\n",
       "      <td>0.0</td>\n",
       "      <td>0.0</td>\n",
       "      <td>37.0</td>\n",
       "      <td>12.0</td>\n",
       "      <td>27.0</td>\n",
       "    </tr>\n",
       "    <tr>\n",
       "      <th>216845</th>\n",
       "      <td>4500.0</td>\n",
       "      <td>0</td>\n",
       "      <td>14.64</td>\n",
       "      <td>2</td>\n",
       "      <td>12</td>\n",
       "      <td>10</td>\n",
       "      <td>5</td>\n",
       "      <td>68000.0</td>\n",
       "      <td>2</td>\n",
       "      <td>2</td>\n",
       "      <td>25.80</td>\n",
       "      <td>0.0</td>\n",
       "      <td>0.0</td>\n",
       "      <td>1.0</td>\n",
       "      <td>4.0</td>\n",
       "      <td>10.0</td>\n",
       "      <td>33.0</td>\n",
       "    </tr>\n",
       "    <tr>\n",
       "      <th>108</th>\n",
       "      <td>12000.0</td>\n",
       "      <td>0</td>\n",
       "      <td>11.71</td>\n",
       "      <td>1</td>\n",
       "      <td>7</td>\n",
       "      <td>2</td>\n",
       "      <td>1</td>\n",
       "      <td>126000.0</td>\n",
       "      <td>0</td>\n",
       "      <td>2</td>\n",
       "      <td>13.32</td>\n",
       "      <td>0.0</td>\n",
       "      <td>0.0</td>\n",
       "      <td>0.0</td>\n",
       "      <td>74.0</td>\n",
       "      <td>17.0</td>\n",
       "      <td>38.0</td>\n",
       "    </tr>\n",
       "  </tbody>\n",
       "</table>\n",
       "</div>"
      ],
      "text/plain": [
       "        loan_amnt  term  int_rate  grade  sub_grade  emp_length  \\\n",
       "48456     12000.0     0     17.76      3         15           1   \n",
       "68125     17450.0     1     10.64      1          6          10   \n",
       "82591     11200.0     0     12.12      1          7           1   \n",
       "216845     4500.0     0     14.64      2         12          10   \n",
       "108       12000.0     0     11.71      1          7           2   \n",
       "\n",
       "        home_ownership  annual_inc  verification_status  purpose    dti  \\\n",
       "48456                1     67000.0                    1        2  11.96   \n",
       "68125                1     65000.0                    2        1  18.27   \n",
       "82591                4     45000.0                    1        2  14.72   \n",
       "216845               5     68000.0                    2        2  25.80   \n",
       "108                  1    126000.0                    0        2  13.32   \n",
       "\n",
       "        pub_rec  acc_now_delinq  delinq_2yrs  mths_since_last_delinq  \\\n",
       "48456       0.0             0.0          0.0                     0.0   \n",
       "68125       0.0             0.0          0.0                     0.0   \n",
       "82591       0.0             0.0          0.0                    37.0   \n",
       "216845      0.0             0.0          1.0                     4.0   \n",
       "108         0.0             0.0          0.0                    74.0   \n",
       "\n",
       "        open_acc  total_acc  \n",
       "48456       12.0       17.0  \n",
       "68125       12.0       19.0  \n",
       "82591       12.0       27.0  \n",
       "216845      10.0       33.0  \n",
       "108         17.0       38.0  "
      ]
     },
     "execution_count": 16,
     "metadata": {},
     "output_type": "execute_result"
    }
   ],
   "source": [
    "selected_features.head()"
   ]
  },
  {
   "cell_type": "code",
   "execution_count": 17,
   "metadata": {
    "collapsed": false
   },
   "outputs": [],
   "source": [
    "x_train, x_test, y_train, y_test = train_test_split(selected_features,target, test_size=1/4.0, random_state=4082,stratify=target)"
   ]
  },
  {
   "cell_type": "code",
   "execution_count": 18,
   "metadata": {
    "collapsed": false
   },
   "outputs": [
    {
     "name": "stdout",
     "output_type": "stream",
     "text": [
      "34850\n",
      "34850\n",
      "11617\n",
      "11617\n"
     ]
    }
   ],
   "source": [
    "print sum(y_train==1)\n",
    "print sum(y_train==0)\n",
    "\n",
    "print sum(y_test==1)\n",
    "print sum(y_test==0)"
   ]
  },
  {
   "cell_type": "code",
   "execution_count": 27,
   "metadata": {
    "collapsed": false
   },
   "outputs": [],
   "source": [
    "#clf=DecisionTreeClassifier()\n",
    "#clf=ExtraTreeClassifier()\n",
    "#clf=LogisticRegression()\n",
    "#clf=RidgeClassifier()\n",
    "#clf=XGBClassifier(learning_rate =0.1, n_estimators=1000, max_depth=10, min_child_weight=1, gamma=0, subsample=0.8,\n",
    "#                  colsample_bytree=0.8, objective= 'binary:logistic', nthread=4, scale_pos_weight=1, seed=27)\n",
    "#clf= XGBClassifier()\n",
    "#clf=Perceptron(n_iter=500)\n",
    "#clf = AdaBoostClassifier(n_estimators=150)\n",
    "#clf=GradientBoostingClassifier(n_estimators=150)\n",
    "clf = RandomForestClassifier(n_estimators=150)\n",
    "#clf = LinearSVC(max_iter=100,random_state=9701)"
   ]
  },
  {
   "cell_type": "code",
   "execution_count": 28,
   "metadata": {
    "collapsed": false
   },
   "outputs": [],
   "source": [
    "clf.fit(x_train,y_train)\n",
    "test_pred=clf.predict(x_test)\n",
    "train_pred=clf.predict(x_train)"
   ]
  },
  {
   "cell_type": "code",
   "execution_count": 29,
   "metadata": {
    "collapsed": false
   },
   "outputs": [
    {
     "name": "stdout",
     "output_type": "stream",
     "text": [
      "#miss-classification (train):  0 / 69700\n",
      "#miss-classification (test):  8250 / 23234\n",
      "train accuracy:  100.0 %\n",
      "test accuracy:  64.4916932082 %\n"
     ]
    }
   ],
   "source": [
    "print \"#miss-classification (train): \",sum(train_pred!=y_train),\"/\",len(train_pred)\n",
    "print \"#miss-classification (test): \",sum(test_pred!=y_test),\"/\",len(test_pred)\n",
    "print \"train accuracy: \",100.0*sum(train_pred==y_train)/float(len(train_pred)),\"%\"\n",
    "print \"test accuracy: \",100.0*sum(test_pred==y_test)/float(len(test_pred)),\"%\""
   ]
  },
  {
   "cell_type": "code",
   "execution_count": 22,
   "metadata": {
    "collapsed": false
   },
   "outputs": [],
   "source": [
    "#export_graphviz(clf,out_file='tree.dot')  "
   ]
  },
  {
   "cell_type": "code",
   "execution_count": 23,
   "metadata": {
    "collapsed": false
   },
   "outputs": [],
   "source": [
    "#!dot -Tpng tree.dot -o tree.png"
   ]
  },
  {
   "cell_type": "code",
   "execution_count": null,
   "metadata": {
    "collapsed": true
   },
   "outputs": [],
   "source": []
  }
 ],
 "metadata": {
  "kernelspec": {
   "display_name": "Python 2",
   "language": "python",
   "name": "python2"
  },
  "language_info": {
   "codemirror_mode": {
    "name": "ipython",
    "version": 2
   },
   "file_extension": ".py",
   "mimetype": "text/x-python",
   "name": "python",
   "nbconvert_exporter": "python",
   "pygments_lexer": "ipython2",
   "version": "2.7.10"
  }
 },
 "nbformat": 4,
 "nbformat_minor": 1
}
