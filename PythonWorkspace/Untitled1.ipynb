{
 "cells": [
  {
   "cell_type": "code",
   "execution_count": null,
   "metadata": {
    "collapsed": false
   },
   "outputs": [],
   "source": [
    "from sklearn import linear_model\n",
    "\n",
    "import matplotlib.pyplot as plt\n",
    "\n",
    "import numpy as np\n",
    "\n",
    "log = np.genfromtxt(\"trainingdata.txt\", delimiter=',')\n",
    "\n",
    "charge_time = []\n",
    "\n",
    "life_time = []\n",
    "\n",
    "for i in log:\n",
    "\n",
    "    i = i.tolist()\n",
    "\n",
    "    tmp = []\n",
    "\n",
    "    tmp.append(i[0])\n",
    "\n",
    "    charge_time.append(tmp)\n",
    "\n",
    "    life_time.append(i[1])\n",
    "    \n",
    "plt.scatter(charge_time, life_time,  color='black')\n",
    "\n",
    "plt.show()\n",
    "\n",
    "lin = linear_model.LinearRegression()\n",
    "\n",
    "lin.fit(charge_time, life_time)\n",
    "\n",
    "print lin.get_params()\n",
    "\n",
    "print round(lin.predict(input()), 2)"
   ]
  },
  {
   "cell_type": "code",
   "execution_count": null,
   "metadata": {
    "collapsed": true
   },
   "outputs": [],
   "source": []
  },
  {
   "cell_type": "code",
   "execution_count": null,
   "metadata": {
    "collapsed": true
   },
   "outputs": [],
   "source": []
  }
 ],
 "metadata": {
  "kernelspec": {
   "display_name": "Python 2",
   "language": "python",
   "name": "python2"
  },
  "language_info": {
   "codemirror_mode": {
    "name": "ipython",
    "version": 2
   },
   "file_extension": ".py",
   "mimetype": "text/x-python",
   "name": "python",
   "nbconvert_exporter": "python",
   "pygments_lexer": "ipython2",
   "version": "2.7.10"
  }
 },
 "nbformat": 4,
 "nbformat_minor": 0
}
